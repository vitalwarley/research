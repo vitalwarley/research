{
 "cells": [
  {
   "cell_type": "markdown",
   "id": "66bb6849",
   "metadata": {},
   "source": [
    "# Check datasets: RFIW2020 vs RFIW2021"
   ]
  },
  {
   "cell_type": "markdown",
   "id": "9ef45954",
   "metadata": {},
   "source": [
    "## Introduction"
   ]
  },
  {
   "cell_type": "markdown",
   "id": "cf5d0ca8",
   "metadata": {},
   "source": [
    "This notebook was created by [Jupyter AI](https://github.com/jupyterlab/jupyter-ai) with the following prompt:\n",
    "\n",
    "> /generate check if folders in ../fitw2020/train-faces-det are equal to those in ../rfiw2021/Track1/Train/train-faces"
   ]
  },
  {
   "cell_type": "markdown",
   "id": "8070cf51",
   "metadata": {},
   "source": [
    "This Jupyter notebook focuses on verifying if the contents of two specific directories, namely, '../fitw2020/train-faces-det' and '../rfiw2021/Track1/Train/train-faces' are identical or not. The process is initiated by importing Python's 'os' library to interact with the operating system. It then defines the paths to the directories in question, which are assigned to variables 'rfiw2020' and 'rfiw2021'. Subsequently, two lists are created that hold the names of the files and subdirectories in 'rfiw2020' and 'rfiw2021g', respectively, through the 'os.listdir' function. A comparison operation is then performed on the contents of these lists using the '==' operator, validating whether the lists (and hence the directories) are equal or not. The final step includes printing the result of this comparison, indicating the equality or disparity between the directories."
   ]
  },
  {
   "cell_type": "markdown",
   "id": "2552f58a",
   "metadata": {},
   "source": [
    "## Define Directory Paths"
   ]
  },
  {
   "cell_type": "code",
   "execution_count": 1,
   "id": "d0f9c6ca",
   "metadata": {},
   "outputs": [],
   "source": [
    "import os"
   ]
  },
  {
   "cell_type": "code",
   "execution_count": 2,
   "id": "f9015544",
   "metadata": {},
   "outputs": [],
   "source": [
    "def get_absolute_path(relative_path):\n",
    "    return os.path.abspath(relative_path)"
   ]
  },
  {
   "cell_type": "code",
   "execution_count": 3,
   "id": "7064e5c5",
   "metadata": {},
   "outputs": [],
   "source": [
    "rfiw2020 = get_absolute_path(\"../fitw2020/train-faces-det\")\n",
    "rfiw2021 = get_absolute_path(\"../rfiw2021/Track1/Train/train-faces\")"
   ]
  },
  {
   "cell_type": "markdown",
   "id": "0a95cdd9",
   "metadata": {},
   "source": [
    "## Retrieve Folder Contents"
   ]
  },
  {
   "cell_type": "code",
   "execution_count": 4,
   "id": "492703d2",
   "metadata": {
    "lines_to_next_cell": 2
   },
   "outputs": [],
   "source": [
    "rfiw2020_contents = os.listdir(rfiw2020)\n",
    "rfiw2021_contents = os.listdir(rfiw2021)"
   ]
  },
  {
   "cell_type": "markdown",
   "id": "c37bffa9",
   "metadata": {
    "lines_to_next_cell": 2
   },
   "source": [
    "## Compare Folder Contents"
   ]
  },
  {
   "cell_type": "code",
   "execution_count": 5,
   "id": "9617f30b",
   "metadata": {},
   "outputs": [],
   "source": [
    "def compare_directories(rfiw2020, rfiw2021):\n",
    "    rfiw2020_contents = set(os.listdir(rfiw2020))\n",
    "    rfiw2021_contents = set(os.listdir(rfiw2021))\n",
    "    if rfiw2020_contents == rfiw2021_contents:\n",
    "        print(\"The directories are equal.\")\n",
    "    else:\n",
    "        rfiw2021_complement = rfiw2020_contents - rfiw2021_contents\n",
    "        print(f\"Only in rfiw2021: {rfiw2021_complement}\")\n",
    "        rfiw2020_complement = rfiw2021_contents - rfiw2020_contents\n",
    "        print(f\"Only in rfiw2020: {rfiw2020_complement}\")\n",
    "        print(\"The directories are not equal.\")"
   ]
  },
  {
   "cell_type": "code",
   "execution_count": 6,
   "id": "6455f09a",
   "metadata": {},
   "outputs": [
    {
     "name": "stdout",
     "output_type": "stream",
     "text": [
      "Only in rfiw2021: set()\n",
      "Only in rfiw2020: {'F0624'}\n",
      "The directories are not equal.\n"
     ]
    }
   ],
   "source": [
    "compare_directories(rfiw2020, rfiw2021)"
   ]
  }
 ],
 "metadata": {
  "jupytext": {
   "formats": "ipynb,py:percent"
  },
  "kernelspec": {
   "display_name": "Python 3 (ipykernel)",
   "language": "python",
   "name": "python3"
  },
  "language_info": {
   "codemirror_mode": {
    "name": "ipython",
    "version": 3
   },
   "file_extension": ".py",
   "mimetype": "text/x-python",
   "name": "python",
   "nbconvert_exporter": "python",
   "pygments_lexer": "ipython3",
   "version": "3.11.5"
  }
 },
 "nbformat": 4,
 "nbformat_minor": 5
}
