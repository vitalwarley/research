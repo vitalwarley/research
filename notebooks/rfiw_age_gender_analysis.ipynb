{
 "cells": [
  {
   "cell_type": "markdown",
   "id": "4859679c-3113-4610-abe6-7a27ae2c42c2",
   "metadata": {},
   "source": [
    "Aim: predict age and gender from RFIW2021 data -- train and val sets.\n",
    "\n",
    "1. Inspect MiVOLO to understand its setup\n",
    "2. Copy the necessary code\n",
    "3. Adapt it to save each prediction to a dataframe (maybe extending val.txt to have age and gender)\n",
    "4. Analyse the generated dataframe"
   ]
  },
  {
   "cell_type": "markdown",
   "id": "4e093d59-1051-43e1-a5f9-53cf6dc3c7ac",
   "metadata": {},
   "source": [
    "## Import libraries"
   ]
  },
  {
   "cell_type": "code",
   "execution_count": 5,
   "id": "1cfbeb48-6d29-4deb-9eec-fd939f8b7fbb",
   "metadata": {},
   "outputs": [],
   "source": [
    "from dataclasses import dataclass\n",
    "from pathlib import Path\n",
    "\n",
    "import cv2\n",
    "import pandas as pd\n",
    "from mivolo.data.data_reader import get_all_files\n",
    "from mivolo.predictor import Predictor\n",
    "from tqdm import tqdm"
   ]
  },
  {
   "cell_type": "markdown",
   "id": "4fcf48f7-b9e4-466d-9570-09fe707d5a03",
   "metadata": {},
   "source": [
    "# Set up paths"
   ]
  },
  {
   "cell_type": "code",
   "execution_count": null,
   "id": "7f9557a1-b7e3-43a9-bb98-5cf48e8f5e70",
   "metadata": {
    "lines_to_next_cell": 0
   },
   "outputs": [],
   "source": []
  },
  {
   "cell_type": "code",
   "execution_count": 7,
   "id": "0e680c5c-4064-4f2b-b9f5-3fc58ab0df46",
   "metadata": {},
   "outputs": [],
   "source": [
    "try:\n",
    "    IS_NOTEBOOK = True\n",
    "    HERE = Path(__file__).resolve().parent\n",
    "except NameError:\n",
    "    IS_NOTEBOOK = False\n",
    "    HERE = Path().resolve()\n",
    "\n",
    "DATA_DIR = Path(HERE, \"../rfiw2021/Track1/Validation/val-faces\")\n",
    "MODELS_DIR = Path(HERE, \"../MiVOLO/models\")"
   ]
  },
  {
   "cell_type": "code",
   "execution_count": 10,
   "id": "f0863e02-86d4-471c-b0fa-07b7002355ed",
   "metadata": {},
   "outputs": [],
   "source": [
    "@dataclass\n",
    "class Config:\n",
    "    device: str = \"cuda\"\n",
    "    detector_weights: str = MODELS_DIR / \"yolov8x_person_face.pt\"\n",
    "    checkpoint: str = MODELS_DIR / \"mivolo_imbd.pth.tar\"\n",
    "    with_persons: bool = False\n",
    "    disable_faces: bool = False\n",
    "    draw = False"
   ]
  },
  {
   "cell_type": "code",
   "execution_count": 41,
   "id": "3e2c30ed-b031-4d20-be93-336bc465f5cf",
   "metadata": {},
   "outputs": [
    {
     "name": "stderr",
     "output_type": "stream",
     "text": [
      "Model summary (fused): 268 layers, 68125494 parameters, 0 gradients\n"
     ]
    }
   ],
   "source": [
    "args = Config()\n",
    "predictor = Predictor(args)"
   ]
  },
  {
   "cell_type": "code",
   "execution_count": 43,
   "id": "7fcd8577-778c-40c0-bed7-76e21217f1f7",
   "metadata": {
    "scrolled": true
   },
   "outputs": [
    {
     "name": "stderr",
     "output_type": "stream",
     "text": [
      "100%|████████████████████████████████████████████████████████████████████████████████████████████████████████████████████████████████████████████████████████████████████████████████████████████████████████████████████████████████████| 10/10 [00:00<00:00, 25.95it/s]\n"
     ]
    }
   ],
   "source": [
    "image_files = get_all_files(DATA_DIR)\n",
    "\n",
    "preds = []\n",
    "\n",
    "for img_p in tqdm(image_files[:10]):\n",
    "    img = cv2.imread(img_p)\n",
    "    pred, out_im = predictor.recognize(img)\n",
    "    img_info = {k: v for k, v in zip([\"fid\", \"mid\", \"pid_filename\"], Path(img_p).parts[-3:])}\n",
    "    pred_info = {\"age\": pred.ages[1], \"gender\": pred.genders[1], \"gender_score\": pred.gender_scores[1]}\n",
    "    preds.append({**img_info, **pred_info})"
   ]
  },
  {
   "cell_type": "code",
   "execution_count": 44,
   "id": "d0ea8397-b364-4bc1-9b2f-ffb9534f870d",
   "metadata": {},
   "outputs": [
    {
     "data": {
      "text/plain": [
       "[{'fid': 'F0119',\n",
       "  'mid': 'MID2',\n",
       "  'pid_filename': 'P01237_face3.jpg',\n",
       "  'age': 19.8,\n",
       "  'gender': 'female',\n",
       "  'gender_score': 0.99755859375},\n",
       " {'fid': 'F0119',\n",
       "  'mid': 'MID2',\n",
       "  'pid_filename': 'P01243_face1.jpg',\n",
       "  'age': 18.37,\n",
       "  'gender': 'female',\n",
       "  'gender_score': 0.9970703125},\n",
       " {'fid': 'F0119',\n",
       "  'mid': 'MID2',\n",
       "  'pid_filename': 'P01236_face0.jpg',\n",
       "  'age': 20.42,\n",
       "  'gender': 'female',\n",
       "  'gender_score': 0.99755859375},\n",
       " {'fid': 'F0119',\n",
       "  'mid': 'MID2',\n",
       "  'pid_filename': 'P01240_face2.jpg',\n",
       "  'age': 26.59,\n",
       "  'gender': 'female',\n",
       "  'gender_score': 0.9970703125},\n",
       " {'fid': 'F0119',\n",
       "  'mid': 'MID2',\n",
       "  'pid_filename': 'P01239_face3.jpg',\n",
       "  'age': 23.44,\n",
       "  'gender': 'female',\n",
       "  'gender_score': 0.9970703125},\n",
       " {'fid': 'F0119',\n",
       "  'mid': 'MID2',\n",
       "  'pid_filename': 'P01241_face1.jpg',\n",
       "  'age': 19.31,\n",
       "  'gender': 'female',\n",
       "  'gender_score': 0.99755859375},\n",
       " {'fid': 'F0119',\n",
       "  'mid': 'MID2',\n",
       "  'pid_filename': 'P01234_face0.jpg',\n",
       "  'age': 20.35,\n",
       "  'gender': 'female',\n",
       "  'gender_score': 0.99755859375},\n",
       " {'fid': 'F0119',\n",
       "  'mid': 'MID2',\n",
       "  'pid_filename': 'P01242_face1.jpg',\n",
       "  'age': 19.04,\n",
       "  'gender': 'female',\n",
       "  'gender_score': 0.99755859375},\n",
       " {'fid': 'F0119',\n",
       "  'mid': 'MID2',\n",
       "  'pid_filename': 'P01235_face0.jpg',\n",
       "  'age': 22.73,\n",
       "  'gender': 'female',\n",
       "  'gender_score': 0.9970703125},\n",
       " {'fid': 'F0119',\n",
       "  'mid': 'MID2',\n",
       "  'pid_filename': 'P01238_face0.jpg',\n",
       "  'age': 30.78,\n",
       "  'gender': 'female',\n",
       "  'gender_score': 0.9970703125}]"
      ]
     },
     "execution_count": 44,
     "metadata": {},
     "output_type": "execute_result"
    }
   ],
   "source": [
    "preds"
   ]
  },
  {
   "cell_type": "code",
   "execution_count": 45,
   "id": "a4d2b5ed-3fb3-464a-9221-61b5cd39fdbc",
   "metadata": {},
   "outputs": [],
   "source": [
    "df = pd.DataFrame(preds)"
   ]
  },
  {
   "cell_type": "code",
   "execution_count": 46,
   "id": "a9de75df-ee4f-4770-8da1-f0630839ea8e",
   "metadata": {},
   "outputs": [
    {
     "data": {
      "text/html": [
       "<div>\n",
       "<style scoped>\n",
       "    .dataframe tbody tr th:only-of-type {\n",
       "        vertical-align: middle;\n",
       "    }\n",
       "\n",
       "    .dataframe tbody tr th {\n",
       "        vertical-align: top;\n",
       "    }\n",
       "\n",
       "    .dataframe thead th {\n",
       "        text-align: right;\n",
       "    }\n",
       "</style>\n",
       "<table border=\"1\" class=\"dataframe\">\n",
       "  <thead>\n",
       "    <tr style=\"text-align: right;\">\n",
       "      <th></th>\n",
       "      <th>fid</th>\n",
       "      <th>mid</th>\n",
       "      <th>pid_filename</th>\n",
       "      <th>age</th>\n",
       "      <th>gender</th>\n",
       "      <th>gender_score</th>\n",
       "    </tr>\n",
       "  </thead>\n",
       "  <tbody>\n",
       "    <tr>\n",
       "      <th>0</th>\n",
       "      <td>F0119</td>\n",
       "      <td>MID2</td>\n",
       "      <td>P01237_face3.jpg</td>\n",
       "      <td>19.80</td>\n",
       "      <td>female</td>\n",
       "      <td>0.997559</td>\n",
       "    </tr>\n",
       "    <tr>\n",
       "      <th>1</th>\n",
       "      <td>F0119</td>\n",
       "      <td>MID2</td>\n",
       "      <td>P01243_face1.jpg</td>\n",
       "      <td>18.37</td>\n",
       "      <td>female</td>\n",
       "      <td>0.997070</td>\n",
       "    </tr>\n",
       "    <tr>\n",
       "      <th>2</th>\n",
       "      <td>F0119</td>\n",
       "      <td>MID2</td>\n",
       "      <td>P01236_face0.jpg</td>\n",
       "      <td>20.42</td>\n",
       "      <td>female</td>\n",
       "      <td>0.997559</td>\n",
       "    </tr>\n",
       "    <tr>\n",
       "      <th>3</th>\n",
       "      <td>F0119</td>\n",
       "      <td>MID2</td>\n",
       "      <td>P01240_face2.jpg</td>\n",
       "      <td>26.59</td>\n",
       "      <td>female</td>\n",
       "      <td>0.997070</td>\n",
       "    </tr>\n",
       "    <tr>\n",
       "      <th>4</th>\n",
       "      <td>F0119</td>\n",
       "      <td>MID2</td>\n",
       "      <td>P01239_face3.jpg</td>\n",
       "      <td>23.44</td>\n",
       "      <td>female</td>\n",
       "      <td>0.997070</td>\n",
       "    </tr>\n",
       "    <tr>\n",
       "      <th>5</th>\n",
       "      <td>F0119</td>\n",
       "      <td>MID2</td>\n",
       "      <td>P01241_face1.jpg</td>\n",
       "      <td>19.31</td>\n",
       "      <td>female</td>\n",
       "      <td>0.997559</td>\n",
       "    </tr>\n",
       "    <tr>\n",
       "      <th>6</th>\n",
       "      <td>F0119</td>\n",
       "      <td>MID2</td>\n",
       "      <td>P01234_face0.jpg</td>\n",
       "      <td>20.35</td>\n",
       "      <td>female</td>\n",
       "      <td>0.997559</td>\n",
       "    </tr>\n",
       "    <tr>\n",
       "      <th>7</th>\n",
       "      <td>F0119</td>\n",
       "      <td>MID2</td>\n",
       "      <td>P01242_face1.jpg</td>\n",
       "      <td>19.04</td>\n",
       "      <td>female</td>\n",
       "      <td>0.997559</td>\n",
       "    </tr>\n",
       "    <tr>\n",
       "      <th>8</th>\n",
       "      <td>F0119</td>\n",
       "      <td>MID2</td>\n",
       "      <td>P01235_face0.jpg</td>\n",
       "      <td>22.73</td>\n",
       "      <td>female</td>\n",
       "      <td>0.997070</td>\n",
       "    </tr>\n",
       "    <tr>\n",
       "      <th>9</th>\n",
       "      <td>F0119</td>\n",
       "      <td>MID2</td>\n",
       "      <td>P01238_face0.jpg</td>\n",
       "      <td>30.78</td>\n",
       "      <td>female</td>\n",
       "      <td>0.997070</td>\n",
       "    </tr>\n",
       "  </tbody>\n",
       "</table>\n",
       "</div>"
      ],
      "text/plain": [
       "     fid   mid      pid_filename    age  gender  gender_score\n",
       "0  F0119  MID2  P01237_face3.jpg  19.80  female      0.997559\n",
       "1  F0119  MID2  P01243_face1.jpg  18.37  female      0.997070\n",
       "2  F0119  MID2  P01236_face0.jpg  20.42  female      0.997559\n",
       "3  F0119  MID2  P01240_face2.jpg  26.59  female      0.997070\n",
       "4  F0119  MID2  P01239_face3.jpg  23.44  female      0.997070\n",
       "5  F0119  MID2  P01241_face1.jpg  19.31  female      0.997559\n",
       "6  F0119  MID2  P01234_face0.jpg  20.35  female      0.997559\n",
       "7  F0119  MID2  P01242_face1.jpg  19.04  female      0.997559\n",
       "8  F0119  MID2  P01235_face0.jpg  22.73  female      0.997070\n",
       "9  F0119  MID2  P01238_face0.jpg  30.78  female      0.997070"
      ]
     },
     "execution_count": 46,
     "metadata": {},
     "output_type": "execute_result"
    }
   ],
   "source": [
    "df"
   ]
  },
  {
   "cell_type": "code",
   "execution_count": null,
   "id": "36c5b043",
   "metadata": {},
   "outputs": [],
   "source": []
  }
 ],
 "metadata": {
  "jupytext": {
   "cell_metadata_filter": "-all",
   "formats": "ipynb,py:percent"
  },
  "kernelspec": {
   "display_name": "Python 3 (ipykernel)",
   "language": "python",
   "name": "python3"
  },
  "language_info": {
   "codemirror_mode": {
    "name": "ipython",
    "version": 3
   },
   "file_extension": ".py",
   "mimetype": "text/x-python",
   "name": "python",
   "nbconvert_exporter": "python",
   "pygments_lexer": "ipython3",
   "version": "3.11.3"
  }
 },
 "nbformat": 4,
 "nbformat_minor": 5
}
