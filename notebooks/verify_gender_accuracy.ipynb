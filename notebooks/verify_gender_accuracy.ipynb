{
 "cells": [
  {
   "cell_type": "code",
   "execution_count": 12,
   "metadata": {},
   "outputs": [],
   "source": [
    "import pandas as pd\n",
    "\n",
    "df = pd.read_csv('data/train_ag.csv')\n",
    "df_train = df[['f1_gender', 'f1_age', 'f2_gender', 'f2_age', 'kin_relation']]\n",
    "\n",
    "df = pd.read_csv('data/val_ag.csv')\n",
    "df_val = df[['f1_gender', 'f1_age', 'f2_gender', 'f2_age', 'kin_relation']]"
   ]
  },
  {
   "cell_type": "code",
   "execution_count": 19,
   "metadata": {},
   "outputs": [],
   "source": [
    "def masc(row, f):\n",
    "    return row[f+'_gender'] == 'male'\n",
    "def fem(row, f):\n",
    "    return row[f+'_gender'] == 'female'"
   ]
  },
  {
   "cell_type": "code",
   "execution_count": 17,
   "metadata": {},
   "outputs": [],
   "source": [
    "def check_relation(row):\n",
    "    \n",
    "    if row['kin_relation'] in ['bb', 'fs', 'gfgs']:\n",
    "        return masc(row, 'f1') and masc(row, 'f2') # Both male\n",
    "    \n",
    "    elif row['kin_relation'] in ['ss', 'md', 'gmgd']:\n",
    "        return fem(row, 'f1') and fem(row, 'f2') # Both female\n",
    "    \n",
    "    elif row['kin_relation'] == 'sibs':\n",
    "        return ( masc(row, 'f1') and fem(row, 'f2') ) or fem(row, 'f1') and masc(row, 'f2') # Bro-sis or Sis-bro\n",
    "    \n",
    "    elif row['kin_relation'] in ['fd', 'gfgd']:\n",
    "        if row['f1_age'] > row['f2_age']:\n",
    "            return masc(row, 'f1') and fem(row, 'f2')\n",
    "        else:\n",
    "            return fem(row, 'f1') and masc(row, 'f2')\n",
    "        \n",
    "    elif row['kin_relation'] in ['ms', 'gmgs']:\n",
    "        if row['f1_age'] > row['f2_age']:\n",
    "            return fem(row, 'f1') and masc(row, 'f2')\n",
    "        else:\n",
    "            return masc(row, 'f1') and fem(row, 'f2')"
   ]
  },
  {
   "cell_type": "code",
   "execution_count": 20,
   "metadata": {},
   "outputs": [
    {
     "name": "stderr",
     "output_type": "stream",
     "text": [
      "/tmp/ipykernel_15349/1317173301.py:2: SettingWithCopyWarning: \n",
      "A value is trying to be set on a copy of a slice from a DataFrame.\n",
      "Try using .loc[row_indexer,col_indexer] = value instead\n",
      "\n",
      "See the caveats in the documentation: https://pandas.pydata.org/pandas-docs/stable/user_guide/indexing.html#returning-a-view-versus-a-copy\n",
      "  df_val['correct'] = df_val.apply(check_relation, axis=1)\n"
     ]
    }
   ],
   "source": [
    "df_train['correct'] = df_train.apply(check_relation, axis=1)\n",
    "df_val['correct'] = df_val.apply(check_relation, axis=1)"
   ]
  },
  {
   "cell_type": "code",
   "execution_count": 27,
   "metadata": {},
   "outputs": [
    {
     "name": "stdout",
     "output_type": "stream",
     "text": [
      "Train dataset accuracy: 81.81%\n",
      "Validation dataset accuracy: 73.29%\n"
     ]
    }
   ],
   "source": [
    "train_accuracy = (df_train['correct'].sum() / len(df_train)) * 100\n",
    "val_accuracy = (df_val['correct'].sum() / len(df_val)) * 100\n",
    "\n",
    "print(f'Train dataset accuracy: {train_accuracy:.2f}%')\n",
    "\n",
    "print(f'Validation dataset accuracy: {val_accuracy:.2f}%')"
   ]
  }
 ],
 "metadata": {
  "kernelspec": {
   "display_name": "kaggle",
   "language": "python",
   "name": "python3"
  },
  "language_info": {
   "codemirror_mode": {
    "name": "ipython",
    "version": 3
   },
   "file_extension": ".py",
   "mimetype": "text/x-python",
   "name": "python",
   "nbconvert_exporter": "python",
   "pygments_lexer": "ipython3",
   "version": "3.9.17"
  },
  "orig_nbformat": 4
 },
 "nbformat": 4,
 "nbformat_minor": 2
}
