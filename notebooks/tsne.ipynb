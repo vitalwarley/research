{
 "cells": [
  {
   "cell_type": "code",
   "execution_count": 1,
   "id": "36a63343",
   "metadata": {},
   "outputs": [],
   "source": [
    "\"\"\"\n",
    "Adapted from Track1/find.py\n",
    "\"\"\"\n",
    "import argparse\n",
    "import os\n",
    "import sys\n",
    "from pathlib import Path"
   ]
  },
  {
   "cell_type": "code",
   "execution_count": 2,
   "id": "efce6bec",
   "metadata": {},
   "outputs": [],
   "source": [
    "import matplotlib.pyplot as plt\n",
    "import numpy as np\n",
    "import torch\n",
    "from sklearn.manifold import TSNE\n",
    "from torch.utils.data import DataLoader\n",
    "from tqdm import tqdm"
   ]
  },
  {
   "cell_type": "code",
   "execution_count": 3,
   "id": "cb64f707-3b4a-4640-a800-68a535582df8",
   "metadata": {},
   "outputs": [],
   "source": [
    "try:\n",
    "    IS_NOTEBOOK = True\n",
    "    HERE = Path(__file__).resolve().parent\n",
    "except NameError:\n",
    "    IS_NOTEBOOK = False\n",
    "    HERE = Path().resolve()"
   ]
  },
  {
   "cell_type": "code",
   "execution_count": 4,
   "id": "1ded135d-b083-46bd-a170-b72593dc9584",
   "metadata": {},
   "outputs": [
    {
     "name": "stdout",
     "output_type": "stream",
     "text": [
      "/warley/dev/research/kinship/notebooks\n"
     ]
    }
   ],
   "source": [
    "print(HERE)\n",
    "sys.path.insert(0, str(Path(HERE, \"..\")))  # kinship root\n",
    "sys.path.insert(0, str(Path(HERE, \"..\", \"rfiw2021\")))  # rfiw2021 dir"
   ]
  },
  {
   "cell_type": "code",
   "execution_count": 5,
   "id": "5759470d",
   "metadata": {},
   "outputs": [],
   "source": [
    "from dataset import FIW  # noqa: E402\n",
    "from Track1.models import Net  # noqa: E402\n",
    "from Track1.utils import set_seed  # noqa: E402"
   ]
  },
  {
   "cell_type": "code",
   "execution_count": 6,
   "id": "0dc6e8d9",
   "metadata": {},
   "outputs": [],
   "source": [
    "def extract_embeddings(val_loader, model):\n",
    "    embeddings = []\n",
    "    labels = []\n",
    "\n",
    "    for img, family_id in tqdm(val_loader):\n",
    "        with torch.no_grad():\n",
    "            embeddings.append(model.encoder(img.cuda()).cpu().numpy())\n",
    "            labels.append(family_id)\n",
    "\n",
    "    # Now, embeddings contain all the embeddings from your model\n",
    "    embeddings = np.vstack(embeddings)\n",
    "    labels = np.concatenate(labels)\n",
    "\n",
    "    return embeddings, labels"
   ]
  },
  {
   "cell_type": "code",
   "execution_count": 26,
   "id": "fe94e531-9aae-4ec7-9be1-97896e572193",
   "metadata": {},
   "outputs": [],
   "source": [
    "def plot_embeddings(embeddings, labels, plot_path):\n",
    "\n",
    "    # Set up perplexity values\n",
    "    n_embeddings = len(embeddings)\n",
    "    perplexities = range(10, n_embeddings, 10)\n",
    "    print(list(perplexities))\n",
    "\n",
    "    # Create a color map for families\n",
    "    color_map = {250: \"red\", 283: \"blue\", 409: \"green\", 735: \"purple\", 873: \"orange\"}\n",
    "\n",
    "    # Define n_subplots based on number of perplexity values\n",
    "    n_subplots = len(perplexities)\n",
    "    n_col = 2\n",
    "    n_row = int(np.ceil(n_subplots / n_col))  # 3 columns\n",
    "\n",
    "    # Prepare a figure to hold the subplots\n",
    "    fig, axes = plt.subplots(n_row, n_col, figsize=(15, 5 * n_row))\n",
    "    axes = axes.flatten()  # Flatten the axes array to make it easier to work with\n",
    "\n",
    "\n",
    "    # Generate and plot t-SNE for different perplexity values\n",
    "    for i, perplexity in enumerate(perplexities):\n",
    "        print(f\"Generating t-SNE with perplexity={perplexity}\")\n",
    "        tsne = TSNE(n_components=2, perplexity=perplexity)\n",
    "        embeddings_2d = tsne.fit_transform(embeddings)\n",
    "\n",
    "        ax = axes[i]  # Get the current subplot\n",
    "\n",
    "        # Plot\n",
    "        for label, color in color_map.items():\n",
    "            idxs = [idx for idx, val in enumerate(labels) if val == str(label)]\n",
    "            ax.scatter(embeddings_2d[idxs, 0], embeddings_2d[idxs, 1], color=color, label=f\"Family #0{label}\")\n",
    "\n",
    "        ax.set_title(f\"Perplexity: {perplexity}\")\n",
    "        ax.legend()\n",
    "\n",
    "    plt.tight_layout()\n",
    "    if plot_path:\n",
    "        plt.savefig(plot_path)\n",
    "    plt.show()"
   ]
  },
  {
   "cell_type": "code",
   "execution_count": 27,
   "id": "eb229440-fc2c-4c78-b2b5-ac14cae34683",
   "metadata": {},
   "outputs": [],
   "source": [
    "def setup(root_dir, batch_size, samples_per_member, save_path, gpu: int = 0):\n",
    "    # Loading and sampling the dataset\n",
    "    val_dataset = FIW(root_dir=root_dir, families=[250, 283, 409, 735, 873], samples_per_member=samples_per_member)\n",
    "    val_loader = DataLoader(val_dataset, batch_size=batch_size, pin_memory=False)\n",
    "\n",
    "    # Loading model\n",
    "    model = Net().cuda()\n",
    "    model.load_state_dict(torch.load(save_path))\n",
    "    model.eval()\n",
    "\n",
    "    set_seed(100)\n",
    "\n",
    "    return model, val_loader"
   ]
  },
  {
   "cell_type": "code",
   "execution_count": 28,
   "id": "76cb316a-e772-465e-b1d8-d726f10f2a82",
   "metadata": {},
   "outputs": [],
   "source": [
    "def run(model, val_loader, plot_path: str = \"\"):\n",
    "    # Extracting embeddings\n",
    "    embeddings, labels = extract_embeddings(val_loader, model)\n",
    "\n",
    "    # Plotting\n",
    "    plot_embeddings(embeddings, labels, plot_path)"
   ]
  },
  {
   "cell_type": "code",
   "execution_count": 29,
   "id": "000476e9",
   "metadata": {},
   "outputs": [],
   "source": [
    "def parser():\n",
    "    parser = argparse.ArgumentParser(description=\"plot embeddings\")\n",
    "    parser.add_argument(\"--root_dir\", type=str, help=\"root directory of dataset\")\n",
    "    parser.add_argument(\"--save_path\", type=str, help=\"model save path\")\n",
    "    parser.add_argument(\"--plot_path\", type=str, help=\"plot save path\")\n",
    "    parser.add_argument(\"--batch_size\", type=int, default=40, help=\"batch size default 40\")\n",
    "    parser.add_argument(\"--gpu\", default=\"0\", type=str, help=\"gpu id you use\")\n",
    "    args = parser.parse_args()\n",
    "    os.environ[\"CUDA_VISIBLE_DEVICES\"] = args.gpu\n",
    "    return args"
   ]
  },
  {
   "cell_type": "code",
   "execution_count": 30,
   "id": "adffb3ce",
   "metadata": {},
   "outputs": [
    {
     "name": "stdout",
     "output_type": "stream",
     "text": [
      "Family 250 has 5 members\n",
      "Member MID2 has 5 images\n",
      "Member MID4 has 2 images\n",
      "Member MID5 has 1 images\n",
      "Member MID3 has 7 images\n",
      "Member MID1 has 8 images\n",
      "Family 283 has 5 members\n",
      "Member MID2 has 5 images\n",
      "Member MID4 has 5 images\n",
      "Member MID5 has 4 images\n",
      "Member MID3 has 3 images\n",
      "Member MID1 has 8 images\n",
      "Family 409 has 4 members\n",
      "Member MID2 has 3 images\n",
      "Member MID4 has 6 images\n",
      "Member MID3 has 8 images\n",
      "Member MID1 has 3 images\n",
      "Family 735 has 4 members\n",
      "Member MID2 has 5 images\n",
      "Member MID4 has 1 images\n",
      "Member MID3 has 4 images\n",
      "Member MID1 has 9 images\n",
      "Family 873 has 12 members\n",
      "Member MID2 has 1 images\n",
      "Member MID4 has 7 images\n",
      "Member MID5 has 5 images\n",
      "Member MID6 has 4 images\n",
      "Member MID12 has 1 images\n",
      "Member MID3 has 6 images\n",
      "Member MID11 has 2 images\n",
      "Member MID1 has 6 images\n",
      "Member MID8 has 5 images\n",
      "Member MID10 has 1 images\n",
      "Member MID9 has 3 images\n",
      "Member MID7 has 1 images\n",
      "Total samples: 30\n"
     ]
    },
    {
     "name": "stderr",
     "output_type": "stream",
     "text": [
      "100%|██████████████████████████████████████████████████████████████████████████████████████████████████████████████████████████████████████████████████████████████████████████████████████████████████████████████████████████████████████| 1/1 [00:00<00:00, 10.75it/s]\n"
     ]
    },
    {
     "name": "stdout",
     "output_type": "stream",
     "text": [
      "[10, 20]\n",
      "Generating t-SNE with perplexity=10\n",
      "Generating t-SNE with perplexity=20\n"
     ]
    },
    {
     "data": {
      "image/png": "[encoded data removed]",
      "text/plain": [
       "<Figure size 1500x500 with 2 Axes>"
      ]
     },
     "metadata": {},
     "output_type": "display_data"
    }
   ],
   "source": [
    "if IS_NOTEBOOK:\n",
    "    if __name__ == \"__main__\":\n",
    "        args = parser()\n",
    "        run(**vars(args))\n",
    "else:\n",
    "    root_dir = Path(HERE, \"../rfiw2021/Track1/Validation/val-faces\")\n",
    "    batch_size = 40\n",
    "    save_path = Path(HERE, \"../rfiw2021/Track1/model_track1.pth\")\n",
    "    plot_path = \"\"\n",
    "    model, val_loader = setup(root_dir, batch_size, samples_per_member=1, save_path=save_path)\n",
    "    run(model, val_loader, plot_path)"
   ]
  },
  {
   "cell_type": "code",
   "execution_count": null,
   "id": "57cf051a-b540-4377-aee5-79bc650e9264",
   "metadata": {},
   "outputs": [],
   "source": []
  }
 ],
 "metadata": {
  "jupytext": {
   "cell_metadata_filter": "-all",
   "formats": "ipynb,py:percent"
  },
  "kernelspec": {
   "display_name": "Python 3 (ipykernel)",
   "language": "python",
   "name": "python3"
  },
  "language_info": {
   "codemirror_mode": {
    "name": "ipython",
    "version": 3
   },
   "file_extension": ".py",
   "mimetype": "text/x-python",
   "name": "python",
   "nbconvert_exporter": "python",
   "pygments_lexer": "ipython3",
   "version": "3.11.3"
  }
 },
 "nbformat": 4,
 "nbformat_minor": 5
}
