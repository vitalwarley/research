{
 "cells": [
  {
   "cell_type": "markdown",
   "id": "7a89aaa0-b3fb-4fbb-ac37-053a87e94a3c",
   "metadata": {},
   "source": [
    "Using rfiw2021 venv."
   ]
  },
  {
   "cell_type": "code",
   "execution_count": 1,
   "id": "d7bd44c1",
   "metadata": {},
   "outputs": [],
   "source": [
    "\"\"\"\n",
    "Adapted from Track1/find.py\n",
    "\"\"\"\n",
    "import sys\n",
    "from pathlib import Path"
   ]
  },
  {
   "cell_type": "code",
   "execution_count": 2,
   "id": "82091bd5",
   "metadata": {},
   "outputs": [],
   "source": [
    "import matplotlib.pyplot as plt\n",
    "import numpy as np\n",
    "import torch\n",
    "from sklearn.manifold import TSNE\n",
    "from torch.utils.data import DataLoader\n",
    "from tqdm import tqdm"
   ]
  },
  {
   "cell_type": "code",
   "execution_count": 3,
   "id": "ab0e06ec",
   "metadata": {},
   "outputs": [],
   "source": [
    "try:\n",
    "    IS_NOTEBOOK = True\n",
    "    HERE = Path(__file__).resolve().parent\n",
    "except NameError:\n",
    "    IS_NOTEBOOK = False\n",
    "    HERE = Path().resolve()"
   ]
  },
  {
   "cell_type": "code",
   "execution_count": 4,
   "id": "1a5c6f78",
   "metadata": {},
   "outputs": [
    {
     "name": "stdout",
     "output_type": "stream",
     "text": [
      "/warley/dev/research/kinship/notebooks\n"
     ]
    }
   ],
   "source": [
    "print(HERE)\n",
    "sys.path.insert(0, str(Path(HERE, \"..\")))  # kinship root\n",
    "sys.path.insert(0, str(Path(HERE, \"..\", \"rfiw2021\")))  # rfiw2021 dir"
   ]
  },
  {
   "cell_type": "code",
   "execution_count": 5,
   "id": "5207424f",
   "metadata": {},
   "outputs": [],
   "source": [
    "from dataset import FIWPair  # noqa: E402\n",
    "from Track1.models import Net  # noqa: E402\n",
    "from Track1.utils import set_seed  # noqa: E402"
   ]
  },
  {
   "cell_type": "code",
   "execution_count": 14,
   "id": "483c984d",
   "metadata": {},
   "outputs": [],
   "source": [
    "def extract_embeddings(val_loader, model, fusion='mean'):\n",
    "    embeddings = []\n",
    "    kin_relations = []\n",
    "    face1_fids = []\n",
    "    face2_fids = []\n",
    "    kin_gt = []\n",
    "\n",
    "    for face1, face2, kin_relation, face1_fid, face2_fid, is_kin in tqdm(val_loader):\n",
    "        with torch.no_grad():\n",
    "            embeddings1 = model.encoder(face1.cuda()).cpu().numpy()\n",
    "            embeddings2 = model.encoder(face2.cuda()).cpu().numpy()\n",
    "            if fusion == 'mean':\n",
    "                embeddings.append(np.mean([embeddings1, embeddings2], axis=0))\n",
    "            elif fusion == 'concat':\n",
    "                embs = np.concatenate([embeddings1, embeddings2])\n",
    "                embeddings.append(embs)\n",
    "            else:\n",
    "                raise ValueError('Invalid fusion.')\n",
    "            kin_relations.extend(kin_relation)\n",
    "            face1_fids.extend(face1_fid.cpu().numpy())\n",
    "            face2_fids.extend(face2_fid.cpu().numpy())\n",
    "            kin_gt.extend(is_kin.cpu().numpy())\n",
    "\n",
    "    # Now, embeddings contain all the embeddings\n",
    "    embeddings = np.vstack(embeddings)\n",
    "    kin_relations = np.vstack(kin_relations)\n",
    "    face1_fids = np.vstack(face1_fids)\n",
    "    face2_fids = np.vstack(face2_fids)\n",
    "    kin_gt = np.vstack(kin_gt)\n",
    "\n",
    "    return embeddings, (kin_relations, face1_fids, face2_fids, kin_gt)"
   ]
  },
  {
   "cell_type": "code",
   "execution_count": 21,
   "id": "c6e8cc97",
   "metadata": {},
   "outputs": [],
   "source": [
    "def calculate_embeddings_2d(embeddings, perplexity):\n",
    "    # This function will calculate the 2D embeddings given the original embeddings and a perplexity value.\n",
    "    tsne = TSNE(n_components=2, perplexity=perplexity, n_iter=5000, verbose=1)\n",
    "    return tsne.fit_transform(embeddings)\n",
    "\n",
    "def plot_embeddings(embeddings, labels, perplexities, plot_path: str = \"\", **kwargs):\n",
    "    # This is the main function that calls the other functions to generate and plot the t-SNE plots.\n",
    "\n",
    "    # Call filter_embeddings to get the embeddings and labels\n",
    "    # embeddings, labels = filter_embeddings(embeddings, labels, **kwargs)\n",
    "\n",
    "    krs, f1fids, f2fids, kin_gt = labels\n",
    "\n",
    "    # Print number of embeddings, number of unique kin relations, number of kin and non-kin relations\n",
    "    # Consider kin relations: fs, gmgd, ms, gfgd, bb, md, fd, sibs, gmgs, gfgs, ss\n",
    "    print(f\"Number of embeddings: {len(embeddings)}\")\n",
    "    print(f\"Number of unique kin relations: {len(np.unique(krs))}\")\n",
    "\n",
    "    # Define n_subplots based on number of perplexity values\n",
    "    n_subplots = len(perplexities)\n",
    "    n_col = n_subplots // 2 if n_subplots > 1 else 1\n",
    "    n_row = int(np.ceil(n_subplots / n_col))\n",
    "\n",
    "    # Prepare a figure to hold the subplots\n",
    "    fig, axes = plt.subplots(n_row, n_col, figsize=(5 * n_col, 5 * n_row))\n",
    "    if n_subplots > 1:\n",
    "        axes = axes.flatten()  # Flatten the axes array to make it easier to work with\n",
    "    else:\n",
    "        axes = [axes]\n",
    "\n",
    "    # Generate and plot t-SNE for different perplexity values\n",
    "    for i, perplexity in enumerate(perplexities):\n",
    "        print(f\"Generating t-SNE with perplexity={perplexity}\")\n",
    "        embeddings_2d = calculate_embeddings_2d(embeddings, perplexity)\n",
    "\n",
    "        ax = axes[i]  # Get the current subplot\n",
    "\n",
    "        # Plot\n",
    "        kin_idxs = kin_gt[kin_gt == 1]\n",
    "        nonkin_idxs = kin_gt[kin_gt == 0]\n",
    "        ax.scatter(\n",
    "            embeddings_2d[kin_idxs, 0], embeddings_2d[kin_idxs, 1], color='blue', marker=\".\", label=\"kin\"\n",
    "        )\n",
    "        ax.scatter(\n",
    "            embeddings_2d[nonkin_idxs, 0],\n",
    "            embeddings_2d[nonkin_idxs, 1],\n",
    "            color='red',\n",
    "            marker=\"x\",\n",
    "            label=\"non-kin\",\n",
    "        )\n",
    "        ax.legend()\n",
    "        ax.set_title(f\"Perplexity: {perplexity}\")\n",
    "\n",
    "    plt.tight_layout()\n",
    "    if plot_path:\n",
    "        plt.savefig(plot_path)\n",
    "    plt.show()"
   ]
  },
  {
   "cell_type": "code",
   "execution_count": 16,
   "id": "6a128a81-dccb-458d-a2c1-e9ae8cd041d7",
   "metadata": {},
   "outputs": [],
   "source": [
    "def setup_data(root_dir, csv_path, batch_size, samples_per_member: int = 1):\n",
    "    # Loading and sampling the dataset\n",
    "    val_dataset = FIWPair(\n",
    "        root_dir=root_dir, csv_path=csv_path, families=[250, 283, 409, 735, 873], samples_per_member=samples_per_member\n",
    "    )\n",
    "    val_loader = DataLoader(val_dataset, batch_size=batch_size, pin_memory=False)\n",
    "    return val_loader"
   ]
  },
  {
   "cell_type": "code",
   "execution_count": 9,
   "id": "68416370-e9a6-48c3-a29d-1e50aea57e36",
   "metadata": {},
   "outputs": [],
   "source": [
    "def setup_model(model_path):\n",
    "    # Loading model\n",
    "    model = Net().cuda()\n",
    "    model.load_state_dict(torch.load(model_path))\n",
    "    model.eval()\n",
    "\n",
    "    set_seed(100)\n",
    "\n",
    "    return model"
   ]
  },
  {
   "cell_type": "code",
   "execution_count": 10,
   "id": "2af63554-5b30-482a-b49c-f5907ae082d1",
   "metadata": {},
   "outputs": [],
   "source": [
    "root_dir = Path(HERE, \"../rfiw2021/Track1/\")\n",
    "csv_path = Path(HERE, \"../rfiw2021/Track1/sample0/val.txt\")\n",
    "batch_size = 40\n",
    "model_path = Path(HERE, \"../rfiw2021/Track1/model_track1.pth\")\n",
    "plot_path = \"\""
   ]
  },
  {
   "cell_type": "code",
   "execution_count": 11,
   "id": "508ca922-946d-41da-bd85-3e70ec7482f6",
   "metadata": {},
   "outputs": [],
   "source": [
    "model = setup_model(model_path)"
   ]
  },
  {
   "cell_type": "code",
   "execution_count": 12,
   "id": "23802e38-21fa-43b4-9296-3c02d657d0ed",
   "metadata": {},
   "outputs": [
    {
     "name": "stdout",
     "output_type": "stream",
     "text": [
      "Total samples: 5846\n"
     ]
    }
   ],
   "source": [
    "val_loader = setup_data(root_dir, csv_path, batch_size)"
   ]
  },
  {
   "cell_type": "code",
   "execution_count": 17,
   "id": "7b99ac5c-8df2-4732-a54c-9a312940e2f0",
   "metadata": {},
   "outputs": [
    {
     "name": "stderr",
     "output_type": "stream",
     "text": [
      "100%|████████████████████████████████████████████████████████████████████████████████████████████████████████████████████████████████████████████████████████████████████████████████████████████████████████████████████████████████████| 147/147 [00:35<00:00,  4.18it/s]\n"
     ]
    }
   ],
   "source": [
    "# Extracting embeddings\n",
    "embeddings, labels = extract_embeddings(val_loader, model, fusion='concat')"
   ]
  },
  {
   "cell_type": "code",
   "execution_count": null,
   "id": "ca1a8338-4222-47a9-b80b-29b56aed5d27",
   "metadata": {},
   "outputs": [],
   "source": [
    "kin_gt = labels[-1]\n",
    "print(f\"Kin == 1: {len(kin_gt[kin_gt == 1])\")\n",
    "print(f\"Kin == 0: {len(kin_gt[kin_gt == 0])\")"
   ]
  },
  {
   "cell_type": "code",
   "execution_count": 22,
   "id": "8dae7eed-de3d-459e-92ae-09450af92b4f",
   "metadata": {},
   "outputs": [
    {
     "name": "stdout",
     "output_type": "stream",
     "text": [
      "Number of embeddings: 11692\n",
      "Number of unique kin relations: 11\n",
      "Generating t-SNE with perplexity=10\n",
      "[t-SNE] Computing 31 nearest neighbors...\n",
      "[t-SNE] Indexed 11692 samples in 0.002s...\n",
      "[t-SNE] Computed neighbors for 11692 samples in 0.560s...\n",
      "[t-SNE] Computed conditional probabilities for sample 1000 / 11692\n",
      "[t-SNE] Computed conditional probabilities for sample 2000 / 11692\n",
      "[t-SNE] Computed conditional probabilities for sample 3000 / 11692\n",
      "[t-SNE] Computed conditional probabilities for sample 4000 / 11692\n",
      "[t-SNE] Computed conditional probabilities for sample 5000 / 11692\n",
      "[t-SNE] Computed conditional probabilities for sample 6000 / 11692\n",
      "[t-SNE] Computed conditional probabilities for sample 7000 / 11692\n",
      "[t-SNE] Computed conditional probabilities for sample 8000 / 11692\n",
      "[t-SNE] Computed conditional probabilities for sample 9000 / 11692\n",
      "[t-SNE] Computed conditional probabilities for sample 10000 / 11692\n",
      "[t-SNE] Computed conditional probabilities for sample 11000 / 11692\n",
      "[t-SNE] Computed conditional probabilities for sample 11692 / 11692\n",
      "[t-SNE] Mean sigma: 0.000000\n",
      "[t-SNE] KL divergence after 250 iterations with early exaggeration: 77.176163\n",
      "[t-SNE] KL divergence after 5000 iterations: -0.242616\n",
      "Generating t-SNE with perplexity=30\n",
      "[t-SNE] Computing 91 nearest neighbors...\n",
      "[t-SNE] Indexed 11692 samples in 0.001s...\n",
      "[t-SNE] Computed neighbors for 11692 samples in 0.624s...\n",
      "[t-SNE] Computed conditional probabilities for sample 1000 / 11692\n",
      "[t-SNE] Computed conditional probabilities for sample 2000 / 11692\n",
      "[t-SNE] Computed conditional probabilities for sample 3000 / 11692\n",
      "[t-SNE] Computed conditional probabilities for sample 4000 / 11692\n",
      "[t-SNE] Computed conditional probabilities for sample 5000 / 11692\n",
      "[t-SNE] Computed conditional probabilities for sample 6000 / 11692\n",
      "[t-SNE] Computed conditional probabilities for sample 7000 / 11692\n",
      "[t-SNE] Computed conditional probabilities for sample 8000 / 11692\n",
      "[t-SNE] Computed conditional probabilities for sample 9000 / 11692\n",
      "[t-SNE] Computed conditional probabilities for sample 10000 / 11692\n",
      "[t-SNE] Computed conditional probabilities for sample 11000 / 11692\n",
      "[t-SNE] Computed conditional probabilities for sample 11692 / 11692\n",
      "[t-SNE] Mean sigma: 0.000000\n",
      "[t-SNE] KL divergence after 250 iterations with early exaggeration: 77.086502\n",
      "[t-SNE] KL divergence after 5000 iterations: -0.358381\n",
      "Generating t-SNE with perplexity=60\n",
      "[t-SNE] Computing 181 nearest neighbors...\n",
      "[t-SNE] Indexed 11692 samples in 0.001s...\n",
      "[t-SNE] Computed neighbors for 11692 samples in 0.749s...\n",
      "[t-SNE] Computed conditional probabilities for sample 1000 / 11692\n",
      "[t-SNE] Computed conditional probabilities for sample 2000 / 11692\n",
      "[t-SNE] Computed conditional probabilities for sample 3000 / 11692\n",
      "[t-SNE] Computed conditional probabilities for sample 4000 / 11692\n",
      "[t-SNE] Computed conditional probabilities for sample 5000 / 11692\n",
      "[t-SNE] Computed conditional probabilities for sample 6000 / 11692\n",
      "[t-SNE] Computed conditional probabilities for sample 7000 / 11692\n",
      "[t-SNE] Computed conditional probabilities for sample 8000 / 11692\n",
      "[t-SNE] Computed conditional probabilities for sample 9000 / 11692\n",
      "[t-SNE] Computed conditional probabilities for sample 10000 / 11692\n",
      "[t-SNE] Computed conditional probabilities for sample 11000 / 11692\n",
      "[t-SNE] Computed conditional probabilities for sample 11692 / 11692\n",
      "[t-SNE] Mean sigma: 0.000000\n",
      "[t-SNE] KL divergence after 250 iterations with early exaggeration: 74.584160\n",
      "[t-SNE] KL divergence after 5000 iterations: 0.024099\n",
      "Generating t-SNE with perplexity=100\n",
      "[t-SNE] Computing 301 nearest neighbors...\n",
      "[t-SNE] Indexed 11692 samples in 0.001s...\n",
      "[t-SNE] Computed neighbors for 11692 samples in 0.793s...\n",
      "[t-SNE] Computed conditional probabilities for sample 1000 / 11692\n",
      "[t-SNE] Computed conditional probabilities for sample 2000 / 11692\n",
      "[t-SNE] Computed conditional probabilities for sample 3000 / 11692\n",
      "[t-SNE] Computed conditional probabilities for sample 4000 / 11692\n",
      "[t-SNE] Computed conditional probabilities for sample 5000 / 11692\n",
      "[t-SNE] Computed conditional probabilities for sample 6000 / 11692\n",
      "[t-SNE] Computed conditional probabilities for sample 7000 / 11692\n",
      "[t-SNE] Computed conditional probabilities for sample 8000 / 11692\n",
      "[t-SNE] Computed conditional probabilities for sample 9000 / 11692\n",
      "[t-SNE] Computed conditional probabilities for sample 10000 / 11692\n",
      "[t-SNE] Computed conditional probabilities for sample 11000 / 11692\n",
      "[t-SNE] Computed conditional probabilities for sample 11692 / 11692\n",
      "[t-SNE] Mean sigma: 0.000000\n",
      "[t-SNE] KL divergence after 250 iterations with early exaggeration: 71.634506\n",
      "[t-SNE] KL divergence after 5000 iterations: 0.148129\n"
     ]
    },
    {
     "data": {
      "image/png": "[encoded data removed]",
      "text/plain": [
       "<Figure size 1000x1000 with 4 Axes>"
      ]
     },
     "metadata": {},
     "output_type": "display_data"
    }
   ],
   "source": [
    "# Plotting\n",
    "perplexities = [10, 30, 60, 100]\n",
    "plot_embeddings(embeddings, labels, perplexities)"
   ]
  }
 ],
 "metadata": {
  "jupytext": {
   "cell_metadata_filter": "-all",
   "formats": "ipynb,py:percent"
  },
  "kernelspec": {
   "display_name": "Python 3 (ipykernel)",
   "language": "python",
   "name": "python3"
  },
  "language_info": {
   "codemirror_mode": {
    "name": "ipython",
    "version": 3
   },
   "file_extension": ".py",
   "mimetype": "text/x-python",
   "name": "python",
   "nbconvert_exporter": "python",
   "pygments_lexer": "ipython3",
   "version": "3.11.5"
  }
 },
 "nbformat": 4,
 "nbformat_minor": 5
}
